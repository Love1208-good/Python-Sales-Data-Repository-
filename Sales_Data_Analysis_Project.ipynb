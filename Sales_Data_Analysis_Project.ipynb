{
 "cells": [
  {
   "cell_type": "markdown",
   "id": "d093c82c",
   "metadata": {},
   "source": [
    "# 📊 Sales Data Analysis & Business Insights Dashboard\n",
    "\n",
    "This project analyzes a company's sales data to uncover trends, identify opportunities, and generate actionable insights using Python."
   ]
  },
  {
   "cell_type": "code",
   "execution_count": null,
   "id": "834117fc",
   "metadata": {},
   "outputs": [],
   "source": [
    "import pandas as pd\n",
    "import numpy as np\n",
    "import matplotlib.pyplot as plt\n",
    "import seaborn as sns\n",
    "import plotly.express as px\n",
    "import warnings\n",
    "warnings.filterwarnings('ignore')"
   ]
  },
  {
   "cell_type": "code",
   "execution_count": null,
   "id": "04e06d89",
   "metadata": {},
   "outputs": [],
   "source": [
    "# Upload the CSV file in Colab or read from local\n",
    "df = pd.read_csv('Sales_Data_Project.csv')\n",
    "df['Order_Date'] = pd.to_datetime(df['Order_Date'])\n",
    "df['Month'] = df['Order_Date'].dt.to_period('M')\n",
    "df.head()"
   ]
  },
  {
   "cell_type": "code",
   "execution_count": null,
   "id": "266260e4",
   "metadata": {},
   "outputs": [],
   "source": [
    "region_sales = df.groupby('Region')['Sales'].sum().reset_index().sort_values(by='Sales', ascending=False)\n",
    "px.bar(region_sales, x='Region', y='Sales', title='Total Sales by Region')"
   ]
  },
  {
   "cell_type": "code",
   "execution_count": null,
   "id": "d736637c",
   "metadata": {},
   "outputs": [],
   "source": [
    "plt.figure(figsize=(8,6))\n",
    "sns.scatterplot(data=df, x='Sales', y='Profit', hue='Category')\n",
    "plt.title(\"Sales vs Profit by Category\")\n",
    "plt.show()"
   ]
  },
  {
   "cell_type": "code",
   "execution_count": null,
   "id": "b8f4edc4",
   "metadata": {},
   "outputs": [],
   "source": [
    "monthly_sales = df.groupby('Month')[['Sales', 'Profit']].sum().reset_index()\n",
    "monthly_sales['Month'] = monthly_sales['Month'].astype(str)\n",
    "px.line(monthly_sales, x='Month', y=['Sales', 'Profit'], title='Monthly Sales and Profit Trend')"
   ]
  },
  {
   "cell_type": "code",
   "execution_count": null,
   "id": "aeac3336",
   "metadata": {},
   "outputs": [],
   "source": [
    "category_profit = df.groupby('Category')['Profit'].sum().reset_index()\n",
    "px.pie(category_profit, names='Category', values='Profit', title='Profit Distribution by Category')"
   ]
  },
  {
   "cell_type": "code",
   "execution_count": null,
   "id": "a3aed5d0",
   "metadata": {},
   "outputs": [],
   "source": [
    "total_sales = df['Sales'].sum()\n",
    "total_profit = df['Profit'].sum()\n",
    "avg_discount = df['Discount'].mean()\n",
    "avg_order_value = df['Sales'].mean()\n",
    "\n",
    "print(f\"Total Sales: ₹{total_sales}\")\n",
    "print(f\"Total Profit: ₹{total_profit}\")\n",
    "print(f\"Average Discount: {round(avg_discount*100, 2)}%\")\n",
    "print(f\"Average Order Value: ₹{round(avg_order_value, 2)}\")"
   ]
  },
  {
   "cell_type": "code",
   "execution_count": null,
   "id": "448ed323",
   "metadata": {},
   "outputs": [],
   "source": [
    "insights = [\n",
    "    \"✅ The West region has the highest sales — consider expanding presence there.\",\n",
    "    \"📉 Negative profit in some categories — deep dive into Furniture or high-discount orders.\",\n",
    "    \"📊 Monthly trends indicate a seasonal spike in March and November — plan inventory accordingly.\",\n",
    "    \"🛒 Office Supplies have stable sales but low profit — consider price revision or bundling.\"\n",
    "]\n",
    "\n",
    "for i, insight in enumerate(insights, 1):\n",
    "    print(f\"{i}. {insight}\")"
   ]
  }
 ],
 "metadata": {},
 "nbformat": 4,
 "nbformat_minor": 5
}
